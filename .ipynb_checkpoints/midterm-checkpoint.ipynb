{
 "cells": [
  {
   "cell_type": "code",
   "execution_count": 1,
   "metadata": {},
   "outputs": [
    {
     "name": "stdout",
     "output_type": "stream",
     "text": [
      "The probability that she got a car is: 0.52523\n",
      "The probability that bearish market is: 0.49792000000000003\n",
      "The probability that she went to beach: 0.46765\n",
      "The probability that she got A is: 0.6024\n",
      "The probability that she got B is: 0.29858\n",
      "The probability that she got C is: 0.09902\n",
      "The probability that she win the seepstakes: 0.01052\n",
      "The probability that she stayed on campus: 0.15726\n"
     ]
    }
   ],
   "source": [
    "import numpy as np\n",
    "\n",
    "As = []\n",
    "Bs=[]\n",
    "Cs=[]\n",
    "BBs=[]\n",
    "Beachs= []\n",
    "Cars=[]\n",
    "Wins = []\n",
    "Campuses = []\n",
    "\n",
    "for i in range(100000):\n",
    "    rand1 = np.random.uniform()\n",
    "    A = 0\n",
    "    B= 0 \n",
    "    C= 0\n",
    "    if rand1 <0.6:\n",
    "        A = 1\n",
    "    elif rand1 < 0.9:\n",
    "        B = 1\n",
    "    else:\n",
    "        C = 1\n",
    "        \n",
    "    rand2= np.random.uniform()\n",
    "    if np.random.uniform() >0.5: # bull market\n",
    "        market = 1\n",
    "        if A == 1:\n",
    "            car = (rand2 < 0.8)\n",
    "        elif B == 1:\n",
    "            car = (rand2 <0.5)\n",
    "        elif C == 1:\n",
    "            car = (rand2 < 0.2)\n",
    "    else: # Bear market\n",
    "        market = 0\n",
    "        if A == 1:\n",
    "            car = (rand2 < 0.5)\n",
    "        elif B == 1:\n",
    "            car = (rand2 < 0.3)\n",
    "        elif C == 1:\n",
    "            car = (rand2 < 0.1)\n",
    "    \n",
    "    rand3 = np.random.uniform()\n",
    "    beach =0\n",
    "    campus =0\n",
    "    if car == True:\n",
    "        if rand3 < 0.7:\n",
    "            beach = 1\n",
    "        else:\n",
    "            campus =1\n",
    "    else:\n",
    "        if rand3 < 0.2:\n",
    "            beach =1\n",
    "        else:\n",
    "            campus = 0\n",
    "    \n",
    "    win=0\n",
    "    rand4  = np.random.uniform()\n",
    "    if np.random.uniform()<= 0.01:\n",
    "        win = 1\n",
    "        if rand4<0.99:\n",
    "            beach = 1\n",
    "        else:\n",
    "            beach = 0\n",
    "        \n",
    "    \n",
    "\n",
    "    \n",
    "    Wins.append(win)\n",
    "    Beachs.append(beach)\n",
    "    Cars.append(car)\n",
    "    As.append(A)\n",
    "    Bs.append(B)\n",
    "    Cs.append(C)\n",
    "    BBs.append(market)\n",
    "    Campuses.append(campus)\n",
    "\n",
    "print (\"The probability that she got a car is:\", sum(Cars)/len(Cars))\n",
    "print (\"The probability that bearish market is:\", 1-sum(BBs)/len(BBs))\n",
    "print (\"The probability that she went to beach:\", sum(Beachs)/len(Beachs))\n",
    "print (\"The probability that she got A is:\", sum(As)/len(As))\n",
    "print (\"The probability that she got B is:\", sum(Bs)/len(Bs))\n",
    "print (\"The probability that she got C is:\", sum(Cs)/len(Cs))\n",
    "print (\"The probability that she win the seepstakes:\", sum(Wins)/len(Wins))\n",
    "print (\"The probability that she stayed on campus:\", sum(Campuses)/len(Campuses))\n",
    "\n"
   ]
  },
  {
   "cell_type": "code",
   "execution_count": 3,
   "metadata": {},
   "outputs": [
    {
     "name": "stdout",
     "output_type": "stream",
     "text": [
      "The probability that she got a car is: 0.7889049146449099\n",
      "The probability that bearish market is: 0.43275999397240217\n",
      "The probability that she went to beach: 1.0\n",
      "The probability that she got A is: 0.6803651002088132\n",
      "The probability that she got B is: 0.25922975911135987\n",
      "The probability that she got C is: 0.06040514067982692\n",
      "The probability that she win the seepstakes: 0.021742406303145115\n",
      "The probability that she stayed on campus: 0.004025574236324887\n"
     ]
    }
   ],
   "source": [
    "import numpy as np\n",
    "\n",
    "As = []\n",
    "Bs=[]\n",
    "Cs=[]\n",
    "BBs=[]\n",
    "Beachs= []\n",
    "Cars=[]\n",
    "Wins = []\n",
    "Campuses = []\n",
    "\n",
    "for i in range(100000):\n",
    "    rand1 = np.random.uniform()\n",
    "    A = 0\n",
    "    B= 0 \n",
    "    C= 0\n",
    "    if rand1 <=0.6:\n",
    "        A = 1\n",
    "    elif rand1 <= 0.9:\n",
    "        B = 1\n",
    "    else:\n",
    "        C = 1\n",
    "        \n",
    "    rand2= np.random.uniform()\n",
    "    if np.random.uniform() >=0.5: # bull market\n",
    "        market = 1\n",
    "        if A == 1:\n",
    "            car = (rand2 <= 0.8)\n",
    "        elif B == 1:\n",
    "            car = (rand2 <=0.5)\n",
    "        elif C == 1:\n",
    "            car = (rand2 <= 0.2)\n",
    "    else: # Bear market\n",
    "        market = 0\n",
    "        if A == 1:\n",
    "            car = (rand2 <= 0.5)\n",
    "        elif B == 1:\n",
    "            car = (rand2 <= 0.3)\n",
    "        elif C == 1:\n",
    "            car = (rand2 <= 0.1)\n",
    "    \n",
    "    rand3 = np.random.uniform()\n",
    "    beach =0\n",
    "    campus =0\n",
    "    if car == True:\n",
    "        if rand3 <= 0.7:\n",
    "            beach = 1\n",
    "        else:\n",
    "            campus =1\n",
    "    else:\n",
    "        if rand3 <= 0.2:\n",
    "            beach =1\n",
    "        else:\n",
    "            campus = 0\n",
    "    \n",
    "    win=0\n",
    "    rand4  = np.random.uniform()\n",
    "    if np.random.uniform()<= 0.01:\n",
    "        win = 1\n",
    "        if rand4<= 0.99:\n",
    "            beach = 1\n",
    "        else:\n",
    "            beach = 0\n",
    "        \n",
    "    \n",
    "\n",
    "    if beach == 1:\n",
    "        Wins.append(win)\n",
    "        Beachs.append(beach)\n",
    "        Cars.append(car)\n",
    "        As.append(A)\n",
    "        Bs.append(B)\n",
    "        Cs.append(C)\n",
    "        BBs.append(market)\n",
    "        Campuses.append(campus)\n",
    "\n",
    "print (\"The probability that she got a car is:\", sum(Cars)/len(Cars))\n",
    "print (\"The probability that bearish market is:\", 1-sum(BBs)/len(BBs))\n",
    "print (\"The probability that she went to beach:\", sum(Beachs)/len(Beachs))\n",
    "print (\"The probability that she got A is:\", sum(As)/len(As))\n",
    "print (\"The probability that she got B is:\", sum(Bs)/len(Bs))\n",
    "print (\"The probability that she got C is:\", sum(Cs)/len(Cs))\n",
    "print (\"The probability that she win the seepstakes:\", sum(Wins)/len(Wins))\n",
    "print (\"The probability that she stayed on campus:\", sum(Campuses)/len(Campuses))\n"
   ]
  },
  {
   "cell_type": "code",
   "execution_count": 45,
   "metadata": {},
   "outputs": [
    {
     "data": {
      "text/plain": [
       "0.7945945945945946"
      ]
     },
     "execution_count": 45,
     "metadata": {},
     "output_type": "execute_result"
    }
   ],
   "source": [
    "0.7*0.525/0.4625"
   ]
  },
  {
   "cell_type": "code",
   "execution_count": 99,
   "metadata": {},
   "outputs": [
    {
     "data": {
      "text/plain": [
       "0.47240000000000004"
      ]
     },
     "execution_count": 99,
     "metadata": {},
     "output_type": "execute_result"
    }
   ],
   "source": [
    "0.7*0.525 + 0.2*0.475+0.99*0.01"
   ]
  },
  {
   "cell_type": "code",
   "execution_count": null,
   "metadata": {},
   "outputs": [],
   "source": []
  }
 ],
 "metadata": {
  "kernelspec": {
   "display_name": "Python 3",
   "language": "python",
   "name": "python3"
  },
  "language_info": {
   "codemirror_mode": {
    "name": "ipython",
    "version": 3
   },
   "file_extension": ".py",
   "mimetype": "text/x-python",
   "name": "python",
   "nbconvert_exporter": "python",
   "pygments_lexer": "ipython3",
   "version": "3.7.3"
  }
 },
 "nbformat": 4,
 "nbformat_minor": 2
}
