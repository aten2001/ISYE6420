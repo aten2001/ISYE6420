{
 "cells": [
  {
   "cell_type": "code",
   "execution_count": 32,
   "metadata": {},
   "outputs": [
    {
     "data": {
      "image/png": "[encoded data removed]",
      "text/plain": [
       "<Figure size 432x288 with 1 Axes>"
      ]
     },
     "metadata": {
      "needs_background": "light"
     },
     "output_type": "display_data"
    },
    {
     "name": "stdout",
     "output_type": "stream",
     "text": [
      "-0.3215478136501531\n",
      "The 95% credible set is  -1.3938910901776493 0.7507954628773432\n"
     ]
    }
   ],
   "source": [
    "import numpy as np\n",
    "import scipy.stats as st\n",
    "import seaborn as sns\n",
    "import matplotlib.pyplot as plt\n",
    "\n",
    "np.random.seed(6)\n",
    "\n",
    "data = np.array([-2, -3, 4, -7,0,4])\n",
    "theta = 1 # initial value\n",
    "thetas = [theta]\n",
    "\n",
    "def sum_theta(data, theta):\n",
    "    total = 0\n",
    "    for i in data:\n",
    "        c = i - theta\n",
    "        total += c**2/8\n",
    "    return total\n",
    "\n",
    "for i in range(10000):\n",
    "    theta_prop = np.random.uniform(-2,2)\n",
    "    prod_1 = np.exp(-sum_theta(data, theta_prop))\n",
    "    prod_2 = np.exp(-sum_theta(data, theta))\n",
    "    \n",
    "    r = ((1+np.cos(np.pi*theta_prop/2))/2*prod_1)/((1+np.cos(np.pi*theta/2))/2*prod_2)\n",
    "    \n",
    "    rho = np.amin([r,1])\n",
    "    z = np.random.uniform()\n",
    "    if rho > z:\n",
    "        theta = theta_prop\n",
    "    thetas.append(theta)\n",
    "\n",
    "    \n",
    "thetas = thetas[501:]\n",
    "sns.distplot(thetas, kde = False, axlabel =\"theta\")\n",
    "plt.show()\n",
    "\n",
    "B_estimator = np.mean(thetas)\n",
    "print (B_estimator)\n",
    "\n",
    "var = np.var(thetas)\n",
    "\n",
    "ubl = B_estimator + 1.96*np.sqrt(var)\n",
    "lbl = B_estimator - 1.96*np.sqrt(var)\n",
    "\n",
    "print (\"The 95% credible set is \",lbl,ubl)"
   ]
  },
  {
   "cell_type": "code",
   "execution_count": 18,
   "metadata": {},
   "outputs": [
    {
     "data": {
      "image/png": "[encoded data removed]",
      "text/plain": [
       "<Figure size 864x864 with 4 Axes>"
      ]
     },
     "metadata": {
      "needs_background": "light"
     },
     "output_type": "display_data"
    },
    {
     "name": "stdout",
     "output_type": "stream",
     "text": [
      "The proportion of positive differences is: 0.7917\n",
      "2.5% percentile: -15.795382413700445\n",
      "97.5% percentile: 39.80408752501205\n"
     ]
    }
   ],
   "source": [
    "import numpy as np\n",
    "import matplotlib.pyplot as plt\n",
    "import seaborn as sns\n",
    "\n",
    "\n",
    "np.random.seed(6)\n",
    "data_1 = np.array([134, 146, 104, 119, 124, 161, 107, 83, 113, 129, 97, 123])\n",
    "data_2 = np.array([70, 118, 101, 85, 107, 132, 94])\n",
    "\n",
    "def probability(data1, data2):\n",
    "    total_1 = sum(data_1)\n",
    "    total_2 = sum(data_2)\n",
    "    n_1 = len(data_1)\n",
    "    n_2 = len(data_2)\n",
    "    thetas_new = np.array([])\n",
    "    thetas_1 = np.array([])\n",
    "    taus_1 = np.array([])\n",
    "    thetas_2 = np.array([])\n",
    "    taus_2 = np.array([])\n",
    "    theta_0 = 110 \n",
    "    tau_0= 1/100\n",
    "    a = 0.01\n",
    "    b = 4\n",
    "    \n",
    "    #initial values\n",
    "    theta_1 = 110\n",
    "    tau_1 = 0.0025\n",
    "    \n",
    "    theta_2 = 110\n",
    "    tau_2 = 0.0025\n",
    "    for i in range(10000):\n",
    "        theta_new = np.random.normal((tau_1*total_1+tau_0*theta_0)/(tau_0+n_1*tau_1)-(tau_2*total_2+tau_0*theta_0)/(tau_0+n_2*tau_2),np.sqrt(1/tau_0+n_1*tau_1+1/tau_0+n_2*tau_2))\n",
    "        thetas_new = np.append(thetas_new, theta_new)\n",
    "        theta_1_new = np.random.normal((tau_1*total_1+tau_0*theta_0)/(tau_0+n_1*tau_1),np.sqrt(1/tau_0+n_1*tau_1))\n",
    "        tau_1_new = np.random.gamma(a + n_1/2,  1/(b+1/2 * np.sum((data_1 - theta_1_new)**2)))\n",
    "        thetas_1 = np.append(thetas_1, theta_1_new)\n",
    "        taus_1 = np.append(taus_1, tau_1_new)\n",
    "        theta_1 = theta_1_new\n",
    "        tau_1 = tau_1_new\n",
    "        \n",
    "        theta_2_new = np.random.normal((tau_2*total_2+tau_0*theta_0)/(tau_0+n_2*tau_2),np.sqrt(1/tau_0+n_2*tau_2))\n",
    "        tau_2_new = np.random.gamma(a + n_2/2,  1/(b+1/2 * np.sum((data_2 - theta_2_new)**2)))\n",
    "        thetas_2 = np.append(thetas_2, theta_2_new)\n",
    "        taus_2 = np.append(taus_2, tau_2_new)\n",
    "        theta_2 = theta_2_new\n",
    "        tau_2 = tau_2_new\n",
    "        \n",
    "    return thetas_1[501:], taus_1[501:], thetas_2[501:], taus_2[501:], thetas_new\n",
    "\n",
    "thetas_1, taus_1,thetas_2, taus_2, thetas_new = probability(data_1,data_2)\n",
    "\n",
    "\n",
    "\n",
    "plt.figure(figsize=(12,12))\n",
    "plt.subplot(2, 2, 1)\n",
    "sns.distplot(thetas_1, kde=False, axlabel=\"theta_1\")\n",
    "plt.subplot(2, 2, 2)\n",
    "sns.distplot(thetas_2, kde=False, axlabel=\"theta_2\")\n",
    "plt.subplot(2, 2, 3)\n",
    "sns.distplot(taus_1, kde=False, axlabel=\"tau_1\")\n",
    "plt.subplot(2, 2, 4)\n",
    "sns.distplot(taus_2, kde=False, axlabel=\"tau_2\")\n",
    "plt.show()\n",
    "\n",
    "\n",
    "print (\"The proportion of positive differences is:\", sum(thetas_new>0)/len(thetas_new))\n",
    "\n",
    "print (\"2.5% percentile:\", np.percentile(thetas_new, 2.5))\n",
    "print (\"97.5% percentile:\", np.percentile(thetas_new, 97.5))\n",
    "plt.show()\n",
    "\n"
   ]
  },
  {
   "cell_type": "code",
   "execution_count": 14,
   "metadata": {},
   "outputs": [
    {
     "data": {
      "text/plain": [
       "array([217.36291671, 211.97784967, 216.61897867, ..., 221.67112595,\n",
       "       220.55215294, 218.14235321])"
      ]
     },
     "execution_count": 14,
     "metadata": {},
     "output_type": "execute_result"
    }
   ],
   "source": [
    "thetas_new"
   ]
  },
  {
   "cell_type": "code",
   "execution_count": 17,
   "metadata": {},
   "outputs": [
    {
     "data": {
      "text/plain": [
       "array([130.92637252, 107.77252385, 122.5020713 , ..., 123.60777173,\n",
       "       121.29780147,  96.54581847])"
      ]
     },
     "execution_count": 17,
     "metadata": {},
     "output_type": "execute_result"
    }
   ],
   "source": [
    "thetas_1"
   ]
  },
  {
   "cell_type": "code",
   "execution_count": null,
   "metadata": {},
   "outputs": [],
   "source": []
  }
 ],
 "metadata": {
  "kernelspec": {
   "display_name": "Python 3",
   "language": "python",
   "name": "python3"
  },
  "language_info": {
   "codemirror_mode": {
    "name": "ipython",
    "version": 3
   },
   "file_extension": ".py",
   "mimetype": "text/x-python",
   "name": "python",
   "nbconvert_exporter": "python",
   "pygments_lexer": "ipython3",
   "version": "3.7.3"
  }
 },
 "nbformat": 4,
 "nbformat_minor": 2
}
