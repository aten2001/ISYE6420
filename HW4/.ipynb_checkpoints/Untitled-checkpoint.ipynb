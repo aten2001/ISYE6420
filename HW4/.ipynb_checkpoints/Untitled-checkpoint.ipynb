{
 "cells": [
  {
   "cell_type": "code",
   "execution_count": 54,
   "metadata": {},
   "outputs": [
    {
     "data": {
      "image/png": "[encoded data removed]",
      "text/plain": [
       "<Figure size 432x288 with 1 Axes>"
      ]
     },
     "metadata": {
      "needs_background": "light"
     },
     "output_type": "display_data"
    },
    {
     "name": "stdout",
     "output_type": "stream",
     "text": [
      "-0.3121117003001753\n",
      "The 95% credible set is  -1.3909491813227262 0.7667257807223756\n"
     ]
    }
   ],
   "source": [
    "import numpy as np\n",
    "import scipy.stats as st\n",
    "import seaborn as sns\n",
    "import matplotlib.pyplot as plt\n",
    "\n",
    "data = np.array([-2, -3, 4, -7,0,4])\n",
    "theta = 1 # initial value\n",
    "thetas = [theta]\n",
    "\n",
    "def sum_theta(data, theta):\n",
    "    total = 0\n",
    "    for i in data:\n",
    "        c = i - theta\n",
    "        total += c**2/8\n",
    "    return total\n",
    "\n",
    "for i in range(10000):\n",
    "    theta_prop = np.random.uniform(-2,2)\n",
    "    prod_1 = np.exp(-sum_theta(data, theta_prop))\n",
    "    prod_2 = np.exp(-sum_theta(data, theta))\n",
    "    \n",
    "    r = ((1+np.cos(np.pi*theta_prop/2))/2*prod_1)/((1+np.cos(np.pi*theta/2))/2*prod_2)\n",
    "    \n",
    "    rho = np.amin([r,1])\n",
    "    z = np.random.uniform()\n",
    "    if rho > z:\n",
    "        theta = theta_prop\n",
    "    thetas.append(theta)\n",
    "\n",
    "    \n",
    "thetas = thetas[501:]\n",
    "sns.distplot(thetas, kde = False, axlabel =\"theta\")\n",
    "plt.show()\n",
    "\n",
    "B_estimator = np.mean(thetas)\n",
    "print (B_estimator)\n",
    "\n",
    "var = np.var(thetas)\n",
    "\n",
    "ubl = B_estimator + 1.96*np.sqrt(var)\n",
    "lbl = B_estimator - 1.96*np.sqrt(var)\n",
    "\n",
    "print (\"The 95% credible set is \",lbl,ubl)"
   ]
  },
  {
   "cell_type": "code",
   "execution_count": null,
   "metadata": {},
   "outputs": [],
   "source": []
  },
  {
   "cell_type": "code",
   "execution_count": null,
   "metadata": {},
   "outputs": [],
   "source": []
  }
 ],
 "metadata": {
  "kernelspec": {
   "display_name": "Python 3",
   "language": "python",
   "name": "python3"
  },
  "language_info": {
   "codemirror_mode": {
    "name": "ipython",
    "version": 3
   },
   "file_extension": ".py",
   "mimetype": "text/x-python",
   "name": "python",
   "nbconvert_exporter": "python",
   "pygments_lexer": "ipython3",
   "version": "3.7.3"
  }
 },
 "nbformat": 4,
 "nbformat_minor": 2
}
