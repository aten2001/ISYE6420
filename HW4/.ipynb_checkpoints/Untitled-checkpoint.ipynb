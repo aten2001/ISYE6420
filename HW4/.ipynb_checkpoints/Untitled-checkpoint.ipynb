{
 "cells": [
  {
   "cell_type": "code",
   "execution_count": 32,
   "metadata": {},
   "outputs": [
    {
     "data": {
      "image/png": "[encoded data removed]",
      "text/plain": [
       "<Figure size 432x288 with 1 Axes>"
      ]
     },
     "metadata": {
      "needs_background": "light"
     },
     "output_type": "display_data"
    },
    {
     "name": "stdout",
     "output_type": "stream",
     "text": [
      "-0.3215478136501531\n",
      "The 95% credible set is  -1.3938910901776493 0.7507954628773432\n"
     ]
    }
   ],
   "source": [
    "import numpy as np\n",
    "import scipy.stats as st\n",
    "import seaborn as sns\n",
    "import matplotlib.pyplot as plt\n",
    "\n",
    "np.random.seed(6)\n",
    "\n",
    "data = np.array([-2, -3, 4, -7,0,4])\n",
    "theta = 1 # initial value\n",
    "thetas = [theta]\n",
    "\n",
    "def sum_theta(data, theta):\n",
    "    total = 0\n",
    "    for i in data:\n",
    "        c = i - theta\n",
    "        total += c**2/8\n",
    "    return total\n",
    "\n",
    "for i in range(10000):\n",
    "    theta_prop = np.random.uniform(-2,2)\n",
    "    prod_1 = np.exp(-sum_theta(data, theta_prop))\n",
    "    prod_2 = np.exp(-sum_theta(data, theta))\n",
    "    \n",
    "    r = ((1+np.cos(np.pi*theta_prop/2))/2*prod_1)/((1+np.cos(np.pi*theta/2))/2*prod_2)\n",
    "    \n",
    "    rho = np.amin([r,1])\n",
    "    z = np.random.uniform()\n",
    "    if rho > z:\n",
    "        theta = theta_prop\n",
    "    thetas.append(theta)\n",
    "\n",
    "    \n",
    "thetas = thetas[501:]\n",
    "sns.distplot(thetas, kde = False, axlabel =\"theta\")\n",
    "plt.show()\n",
    "\n",
    "B_estimator = np.mean(thetas)\n",
    "print (B_estimator)\n",
    "\n",
    "var = np.var(thetas)\n",
    "\n",
    "ubl = B_estimator + 1.96*np.sqrt(var)\n",
    "lbl = B_estimator - 1.96*np.sqrt(var)\n",
    "\n",
    "print (\"The 95% credible set is \",lbl,ubl)"
   ]
  },
  {
   "cell_type": "code",
   "execution_count": 8,
   "metadata": {},
   "outputs": [
    {
     "name": "stdout",
     "output_type": "stream",
     "text": [
      "0.7596589114643647\n",
      "-17.855783722972536\n",
      "38.73976589733353\n"
     ]
    }
   ],
   "source": [
    "import numpy as np\n",
    "import matplotlib.pyplot as plt\n",
    "import seaborn as sns\n",
    "\n",
    "\n",
    "np.random.seed(6)\n",
    "data_1 = np.array([134, 146, 104, 119, 124, 161, 107, 83, 113, 129, 97, 123])\n",
    "data_2 = np.array([70, 118, 101, 85, 107, 132, 94])\n",
    "\n",
    "def probability(data):\n",
    "    total = sum(data)\n",
    "    n = len(data)\n",
    "    thetas = np.array([])\n",
    "    taus = np.array([])\n",
    "    theta_0 = 110 \n",
    "    tau_0= 1/100\n",
    "    a = 0.01\n",
    "    b = 4\n",
    "    \n",
    "    #initial values\n",
    "    theta = 110\n",
    "    tau = 0.0025\n",
    "    \n",
    "    for i in range(10000):\n",
    "        theta_new = np.random.normal((tau*total+tau_0*theta_0)/(tau_0+n*tau),np.sqrt(1/tau_0+n*tau))\n",
    "        tau_new = np.random.gamma(a + n/2,  1/(b+1/2 * np.sum((data_1 - theta_new)**2)))\n",
    "        thetas = np.append(thetas, theta_new)\n",
    "        taus = np.append(taus, tau_new)\n",
    "        theta = theta_new\n",
    "        tau = tau_new\n",
    "    \n",
    "    return thetas[501:], taus[501:]\n",
    "\n",
    "thetas_1, taus_1 = probability(data_1)\n",
    "\n",
    "thetas_2, taus_2 = probability(data_2)\n",
    "print (sum(thetas_1-thetas_2>0)/len(thetas_1))\n",
    "\n",
    "print (np.percentile(thetas_1-thetas_2, 2.5))\n",
    "print (np.percentile(thetas_1-thetas_2, 97.5))\n",
    "#plt.show()\n",
    "\n"
   ]
  },
  {
   "cell_type": "code",
   "execution_count": null,
   "metadata": {},
   "outputs": [],
   "source": []
  }
 ],
 "metadata": {
  "kernelspec": {
   "display_name": "Python 3",
   "language": "python",
   "name": "python3"
  },
  "language_info": {
   "codemirror_mode": {
    "name": "ipython",
    "version": 3
   },
   "file_extension": ".py",
   "mimetype": "text/x-python",
   "name": "python",
   "nbconvert_exporter": "python",
   "pygments_lexer": "ipython3",
   "version": "3.7.3"
  }
 },
 "nbformat": 4,
 "nbformat_minor": 2
}
