{
 "cells": [
  {
   "cell_type": "code",
   "execution_count": 5,
   "metadata": {},
   "outputs": [
    {
     "data": {
      "image/png": "[encoded data removed]",
      "text/plain": [
       "<Figure size 432x288 with 1 Axes>"
      ]
     },
     "metadata": {
      "needs_background": "light"
     },
     "output_type": "display_data"
    },
    {
     "name": "stdout",
     "output_type": "stream",
     "text": [
      "-0.30326548568526546\n",
      "The 95% credible set is  -1.4034970614980016 0.7969660901274707\n"
     ]
    }
   ],
   "source": [
    "import numpy as np\n",
    "import scipy.stats as st\n",
    "import seaborn as sns\n",
    "import matplotlib.pyplot as plt\n",
    "\n",
    "\n",
    "\n",
    "data = np.array([-2, -3, 4, -7,0,4])\n",
    "theta = 1 # initial value\n",
    "thetas = [theta]\n",
    "\n",
    "def sum_theta(data, theta):\n",
    "    total = 0\n",
    "    for i in data:\n",
    "        c = i - theta\n",
    "        total += c**2/8\n",
    "    return total\n",
    "\n",
    "for i in range(10000):\n",
    "    theta_prop = np.random.uniform(-2,2)\n",
    "    prod_1 = np.exp(-sum_theta(data, theta_prop))\n",
    "    prod_2 = np.exp(-sum_theta(data, theta))\n",
    "    \n",
    "    r = ((1+np.cos(np.pi*theta_prop/2))/2*prod_1)/((1+np.cos(np.pi*theta/2))/2*prod_2)\n",
    "    \n",
    "    rho = np.amin([r,1])\n",
    "    z = np.random.uniform()\n",
    "    if rho > z:\n",
    "        theta = theta_prop\n",
    "    thetas.append(theta)\n",
    "\n",
    "    \n",
    "thetas = thetas[501:]\n",
    "sns.distplot(thetas, kde = False, axlabel =\"theta\")\n",
    "plt.show()\n",
    "\n",
    "B_estimator = np.mean(thetas)\n",
    "print (B_estimator)\n",
    "\n",
    "var = np.var(thetas)\n",
    "\n",
    "ubl = B_estimator + 1.96*np.sqrt(var)\n",
    "lbl = B_estimator - 1.96*np.sqrt(var)\n",
    "\n",
    "print (\"The 95% credible set is \",lbl,ubl)"
   ]
  },
  {
   "cell_type": "code",
   "execution_count": 5,
   "metadata": {},
   "outputs": [
    {
     "data": {
      "image/png": "[encoded data removed]",
      "text/plain": [
       "<Figure size 864x864 with 4 Axes>"
      ]
     },
     "metadata": {
      "needs_background": "light"
     },
     "output_type": "display_data"
    },
    {
     "name": "stdout",
     "output_type": "stream",
     "text": [
      "The proportion of positive differences is: 0.7958\n",
      "2.5% percentile: -15.709513275520663\n",
      "97.5% percentile: 39.73853729050921\n",
      "116.71926969425122\n",
      "104.79352053636454\n"
     ]
    }
   ],
   "source": [
    "import numpy as np\n",
    "import matplotlib.pyplot as plt\n",
    "import seaborn as sns\n",
    "\n",
    "\n",
    "np.random.seed(6)\n",
    "data_1 = np.array([134, 146, 104, 119, 124, 161, 107, 83, 113, 129, 97, 123])\n",
    "data_2 = np.array([70, 118, 101, 85, 107, 132, 94])\n",
    "\n",
    "def probability(data):\n",
    "    total = sum(data)\n",
    "  \n",
    "    n = len(data)\n",
    "\n",
    "\n",
    "    thetas= np.array([])\n",
    "    taus= np.array([])\n",
    "\n",
    "    theta_0 = 110 \n",
    "    tau_0= 1/100\n",
    "    a = 0.01\n",
    "    b = 4\n",
    "    \n",
    "    #initial values\n",
    "    theta= 110\n",
    "    tau = 0.0025\n",
    "    \n",
    "\n",
    "    for i in range(10000):\n",
    "       \n",
    "        theta_new = np.random.normal((tau*total+tau_0*theta_0)/(tau_0+n*tau),np.sqrt(1/tau_0+n*tau))\n",
    "        tau_new = np.random.gamma(a + n/2,  1/(b+1/2 * np.sum((data - theta_new)**2)))\n",
    "        thetas = np.append(thetas, theta_new)\n",
    "        taus = np.append(taus, tau_new)\n",
    "        theta_ = theta_new\n",
    "        tau = tau_new\n",
    "        \n",
    "        \n",
    "    return thetas[501:], taus[501:]\n",
    "\n",
    "thetas_1, taus_1 = probability(data_1)\n",
    "thetas_2, taus_2 = probability(data_2)\n",
    "var_1 = np.var(thetas_1)\n",
    "var_2 = np.var(thetas_2)\n",
    "mean_1 = np.mean(thetas_1)\n",
    "mean_2 = np.mean(thetas_2)\n",
    "theta_sub = np.random.normal(mean_1-mean_2, np.sqrt(var_1+var_2),10000)\n",
    "\n",
    "\n",
    "plt.figure(figsize=(12,12))\n",
    "plt.subplot(2, 2, 1)\n",
    "sns.distplot(thetas_1, kde=False, axlabel=\"theta_1\")\n",
    "plt.subplot(2, 2, 2)\n",
    "sns.distplot(thetas_2, kde=False, axlabel=\"theta_2\")\n",
    "plt.subplot(2, 2, 3)\n",
    "sns.distplot(taus_1, kde=False, axlabel=\"tau_1\")\n",
    "plt.subplot(2, 2, 4)\n",
    "sns.distplot(taus_2, kde=False, axlabel=\"tau_2\")\n",
    "plt.show()\n",
    "\n",
    "\n",
    "print (\"The proportion of positive differences is:\",sum(theta_sub>0)/len(theta_sub))\n",
    "print (\"2.5% percentile:\", np.percentile(theta_sub, 2.5))\n",
    "print (\"97.5% percentile:\", np.percentile(theta_sub, 97.5))\n",
    "plt.show()\n",
    "\n",
    "print (np.mean(thetas_1))\n",
    "print (np.mean(thetas_2))\n"
   ]
  },
  {
   "cell_type": "code",
   "execution_count": null,
   "metadata": {},
   "outputs": [],
   "source": []
  },
  {
   "cell_type": "code",
   "execution_count": null,
   "metadata": {},
   "outputs": [],
   "source": []
  }
 ],
 "metadata": {
  "kernelspec": {
   "display_name": "Python 3",
   "language": "python",
   "name": "python3"
  },
  "language_info": {
   "codemirror_mode": {
    "name": "ipython",
    "version": 3
   },
   "file_extension": ".py",
   "mimetype": "text/x-python",
   "name": "python",
   "nbconvert_exporter": "python",
   "pygments_lexer": "ipython3",
   "version": "3.7.3"
  }
 },
 "nbformat": 4,
 "nbformat_minor": 2
}
